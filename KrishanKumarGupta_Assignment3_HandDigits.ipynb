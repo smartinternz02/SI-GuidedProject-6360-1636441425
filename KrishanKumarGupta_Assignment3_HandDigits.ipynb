{
  "cells": [
    {
      "cell_type": "code",
      "execution_count": 1,
      "id": "0d626be9",
      "metadata": {
        "id": "0d626be9"
      },
      "outputs": [],
      "source": [
        "#Krishan Kumar Gupta\n",
        "#VIT Bhopal\n",
        "#krishan.kumar2019@vitbhopal.ac.in"
      ]
    },
    {
      "cell_type": "code",
      "execution_count": null,
      "id": "2783211a",
      "metadata": {
        "id": "2783211a"
      },
      "outputs": [],
      "source": [
        "from tensorflow.keras.models import Sequential\n",
        "from tensorflow.keras.layers import Convolution2D\n",
        "from tensorflow.keras.layers import MaxPooling2D\n",
        "from tensorflow.keras.layers import Dense\n",
        "from tensorflow.keras.layers import Flatten"
      ]
    },
    {
      "cell_type": "markdown",
      "id": "238db201",
      "metadata": {
        "id": "238db201"
      },
      "source": [
        "## Image Pre-Processing"
      ]
    },
    {
      "cell_type": "code",
      "execution_count": null,
      "id": "cb161a72",
      "metadata": {
        "id": "cb161a72"
      },
      "outputs": [],
      "source": [
        "from keras.preprocessing.image import ImageDataGenerator"
      ]
    },
    {
      "cell_type": "raw",
      "id": "73fdaee3",
      "metadata": {
        "id": "73fdaee3"
      },
      "source": [
        "Image Augmentation Techniques\n",
        "1. Image Scaling\n",
        "2. Image Shifting\n",
        "3. Image Rotation\n",
        "4. Image Flipping\n",
        "5. Image Noising\n",
        "6. Image Blurring"
      ]
    },
    {
      "cell_type": "code",
      "execution_count": null,
      "id": "dad1de65",
      "metadata": {
        "id": "dad1de65"
      },
      "outputs": [],
      "source": [
        "train_data=ImageDataGenerator(rescale=1./255,shear_range=0.2,zoom_range=0.2,horizontal_flip=True)\n",
        "test_data=ImageDataGenerator(rescale=1./255)"
      ]
    },
    {
      "cell_type": "code",
      "execution_count": null,
      "id": "e6b9f9f3",
      "metadata": {
        "id": "e6b9f9f3",
        "outputId": "c804932d-9c72-4fc2-86bd-b1c79bd0b881"
      },
      "outputs": [
        {
          "name": "stdout",
          "output_type": "stream",
          "text": [
            "Found 160 images belonging to 10 classes.\n",
            "Found 50 images belonging to 10 classes.\n"
          ]
        }
      ],
      "source": [
        "x_train=train_data.flow_from_directory(r\"Hand_digits\\traindata\",target_size=(64,64),batch_size=10,class_mode=\"categorical\")\n",
        "x_test=test_data.flow_from_directory(r\"Hand_digits\\testdata\",target_size=(64,64),batch_size=10,class_mode=\"categorical\")"
      ]
    },
    {
      "cell_type": "code",
      "execution_count": null,
      "id": "738c1926",
      "metadata": {
        "id": "738c1926",
        "outputId": "8eb46735-e36d-4d8f-a3e3-e18979e7764e"
      },
      "outputs": [
        {
          "data": {
            "text/plain": [
              "{'0': 0,\n",
              " '1': 1,\n",
              " '2': 2,\n",
              " '3': 3,\n",
              " '4': 4,\n",
              " '5': 5,\n",
              " '6': 6,\n",
              " '7': 7,\n",
              " '8': 8,\n",
              " '9': 9}"
            ]
          },
          "execution_count": 219,
          "metadata": {},
          "output_type": "execute_result"
        }
      ],
      "source": [
        "x_train.class_indices"
      ]
    },
    {
      "cell_type": "code",
      "execution_count": null,
      "id": "cbc01ded",
      "metadata": {
        "id": "cbc01ded",
        "outputId": "af1b9534-0589-4511-96b6-8ba5a3725cbc"
      },
      "outputs": [
        {
          "data": {
            "text/plain": [
              "{'0': 0,\n",
              " '1': 1,\n",
              " '2': 2,\n",
              " '3': 3,\n",
              " '4': 4,\n",
              " '5': 5,\n",
              " '6': 6,\n",
              " '7': 7,\n",
              " '8': 8,\n",
              " '9': 9}"
            ]
          },
          "execution_count": 220,
          "metadata": {},
          "output_type": "execute_result"
        }
      ],
      "source": [
        "x_test.class_indices"
      ]
    },
    {
      "cell_type": "markdown",
      "id": "37be18d8",
      "metadata": {
        "id": "37be18d8"
      },
      "source": [
        "## Model Building"
      ]
    },
    {
      "cell_type": "code",
      "execution_count": null,
      "id": "9961bda0",
      "metadata": {
        "id": "9961bda0"
      },
      "outputs": [],
      "source": [
        "model=Sequential()"
      ]
    },
    {
      "cell_type": "code",
      "execution_count": null,
      "id": "f2914452",
      "metadata": {
        "id": "f2914452"
      },
      "outputs": [],
      "source": [
        "#add convoultion layer(no.of filters,filter size,input shape,activation function)\n",
        "model.add(Convolution2D(32,(3,3),input_shape=(64,64,3),activation=\"relu\"))"
      ]
    },
    {
      "cell_type": "code",
      "execution_count": null,
      "id": "23013067",
      "metadata": {
        "id": "23013067"
      },
      "outputs": [],
      "source": [
        "# add maxpooling(pool_size)\n",
        "model.add(MaxPooling2D(pool_size=(2,2)))"
      ]
    },
    {
      "cell_type": "code",
      "execution_count": null,
      "id": "11200b0f",
      "metadata": {
        "id": "11200b0f"
      },
      "outputs": [],
      "source": [
        "# flatten layer---input layer of ann\n",
        "model.add(Flatten())"
      ]
    },
    {
      "cell_type": "code",
      "execution_count": null,
      "id": "c0e4d01a",
      "metadata": {
        "id": "c0e4d01a"
      },
      "outputs": [],
      "source": [
        "# hidden layer(units,activation fucniton)\n",
        "model.add(Dense(units=128,activation=\"relu\"))"
      ]
    },
    {
      "cell_type": "code",
      "execution_count": null,
      "id": "7c9939ed",
      "metadata": {
        "id": "7c9939ed"
      },
      "outputs": [],
      "source": [
        "# output layer(no.of neurons,activation function)\n",
        "model.add(Dense(units=10,activation=\"softmax\"))"
      ]
    },
    {
      "cell_type": "code",
      "execution_count": null,
      "id": "b26c232c",
      "metadata": {
        "id": "b26c232c",
        "outputId": "8f083eb8-e85c-4f96-9a6a-85139c832b32"
      },
      "outputs": [
        {
          "name": "stdout",
          "output_type": "stream",
          "text": [
            "Model: \"sequential_8\"\n",
            "_________________________________________________________________\n",
            " Layer (type)                Output Shape              Param #   \n",
            "=================================================================\n",
            " conv2d_8 (Conv2D)           (None, 62, 62, 32)        896       \n",
            "                                                                 \n",
            " max_pooling2d_8 (MaxPooling  (None, 31, 31, 32)       0         \n",
            " 2D)                                                             \n",
            "                                                                 \n",
            " flatten_7 (Flatten)         (None, 30752)             0         \n",
            "                                                                 \n",
            " dense_14 (Dense)            (None, 128)               3936384   \n",
            "                                                                 \n",
            " dense_15 (Dense)            (None, 10)                1290      \n",
            "                                                                 \n",
            "=================================================================\n",
            "Total params: 3,938,570\n",
            "Trainable params: 3,938,570\n",
            "Non-trainable params: 0\n",
            "_________________________________________________________________\n"
          ]
        }
      ],
      "source": [
        "model.summary()"
      ]
    },
    {
      "cell_type": "code",
      "execution_count": null,
      "id": "154712a0",
      "metadata": {
        "id": "154712a0"
      },
      "outputs": [],
      "source": [
        "#filter values and weights"
      ]
    },
    {
      "cell_type": "code",
      "execution_count": null,
      "id": "d528ad98",
      "metadata": {
        "id": "d528ad98"
      },
      "outputs": [],
      "source": [
        "# compile the model(optimizer,loss,metric)\n",
        "model.compile(loss=\"categorical_crossentropy\",optimizer=\"adam\",metrics=[\"accuracy\"])"
      ]
    },
    {
      "cell_type": "code",
      "execution_count": null,
      "id": "bdc27eac",
      "metadata": {
        "id": "bdc27eac",
        "outputId": "0015becb-527d-4136-ef5c-44761ca9d99d"
      },
      "outputs": [
        {
          "name": "stdout",
          "output_type": "stream",
          "text": [
            "Epoch 1/30\n",
            "16/16 [==============================] - 1s 51ms/step - loss: 0.1146 - accuracy: 0.9688 - val_loss: 1.3637 - val_accuracy: 0.5600\n",
            "Epoch 2/30\n",
            "16/16 [==============================] - 1s 44ms/step - loss: 0.0780 - accuracy: 0.9875 - val_loss: 1.3609 - val_accuracy: 0.5600\n",
            "Epoch 3/30\n",
            "16/16 [==============================] - 1s 50ms/step - loss: 0.1033 - accuracy: 0.9875 - val_loss: 1.5886 - val_accuracy: 0.5200\n",
            "Epoch 4/30\n",
            "16/16 [==============================] - 1s 49ms/step - loss: 0.1211 - accuracy: 0.9812 - val_loss: 1.4465 - val_accuracy: 0.5800\n",
            "Epoch 5/30\n",
            "16/16 [==============================] - 1s 43ms/step - loss: 0.0970 - accuracy: 0.9875 - val_loss: 1.2635 - val_accuracy: 0.5600\n",
            "Epoch 6/30\n",
            "16/16 [==============================] - 1s 44ms/step - loss: 0.0921 - accuracy: 0.9812 - val_loss: 1.3938 - val_accuracy: 0.5800\n",
            "Epoch 7/30\n",
            "16/16 [==============================] - 1s 43ms/step - loss: 0.0720 - accuracy: 0.9875 - val_loss: 1.4441 - val_accuracy: 0.5800\n",
            "Epoch 8/30\n",
            "16/16 [==============================] - 1s 43ms/step - loss: 0.0745 - accuracy: 0.9812 - val_loss: 1.4668 - val_accuracy: 0.5400\n",
            "Epoch 9/30\n",
            "16/16 [==============================] - 1s 43ms/step - loss: 0.0625 - accuracy: 0.9937 - val_loss: 1.3268 - val_accuracy: 0.5400\n",
            "Epoch 10/30\n",
            "16/16 [==============================] - 1s 45ms/step - loss: 0.0792 - accuracy: 0.9875 - val_loss: 1.3952 - val_accuracy: 0.5800\n",
            "Epoch 11/30\n",
            "16/16 [==============================] - 1s 44ms/step - loss: 0.0513 - accuracy: 1.0000 - val_loss: 1.5235 - val_accuracy: 0.5600\n",
            "Epoch 12/30\n",
            "16/16 [==============================] - 1s 43ms/step - loss: 0.0621 - accuracy: 0.9937 - val_loss: 1.5018 - val_accuracy: 0.5600\n",
            "Epoch 13/30\n",
            "16/16 [==============================] - 1s 43ms/step - loss: 0.0737 - accuracy: 0.9688 - val_loss: 1.3504 - val_accuracy: 0.5600\n",
            "Epoch 14/30\n",
            "16/16 [==============================] - 1s 43ms/step - loss: 0.0629 - accuracy: 0.9875 - val_loss: 1.5464 - val_accuracy: 0.5600\n",
            "Epoch 15/30\n",
            "16/16 [==============================] - 1s 43ms/step - loss: 0.0326 - accuracy: 1.0000 - val_loss: 1.4934 - val_accuracy: 0.5800\n",
            "Epoch 16/30\n",
            "16/16 [==============================] - 1s 44ms/step - loss: 0.0485 - accuracy: 0.9875 - val_loss: 1.4633 - val_accuracy: 0.5800\n",
            "Epoch 17/30\n",
            "16/16 [==============================] - 1s 44ms/step - loss: 0.0295 - accuracy: 1.0000 - val_loss: 1.3766 - val_accuracy: 0.6000\n",
            "Epoch 18/30\n",
            "16/16 [==============================] - 1s 45ms/step - loss: 0.0355 - accuracy: 1.0000 - val_loss: 1.4488 - val_accuracy: 0.6000\n",
            "Epoch 19/30\n",
            "16/16 [==============================] - 1s 43ms/step - loss: 0.0479 - accuracy: 0.9875 - val_loss: 1.4164 - val_accuracy: 0.6000\n",
            "Epoch 20/30\n",
            "16/16 [==============================] - 1s 44ms/step - loss: 0.0326 - accuracy: 0.9937 - val_loss: 1.4639 - val_accuracy: 0.6000\n",
            "Epoch 21/30\n",
            "16/16 [==============================] - 1s 43ms/step - loss: 0.0411 - accuracy: 0.9937 - val_loss: 1.4319 - val_accuracy: 0.5800\n",
            "Epoch 22/30\n",
            "16/16 [==============================] - 1s 44ms/step - loss: 0.0538 - accuracy: 0.9875 - val_loss: 1.3764 - val_accuracy: 0.6400\n",
            "Epoch 23/30\n",
            "16/16 [==============================] - 1s 44ms/step - loss: 0.0466 - accuracy: 0.9937 - val_loss: 1.3721 - val_accuracy: 0.5600\n",
            "Epoch 24/30\n",
            "16/16 [==============================] - 1s 45ms/step - loss: 0.0428 - accuracy: 1.0000 - val_loss: 1.4818 - val_accuracy: 0.5800\n",
            "Epoch 25/30\n",
            "16/16 [==============================] - 1s 44ms/step - loss: 0.0279 - accuracy: 0.9937 - val_loss: 1.4604 - val_accuracy: 0.6000\n",
            "Epoch 26/30\n",
            "16/16 [==============================] - 1s 43ms/step - loss: 0.0300 - accuracy: 0.9937 - val_loss: 1.2727 - val_accuracy: 0.5800\n",
            "Epoch 27/30\n",
            "16/16 [==============================] - 1s 48ms/step - loss: 0.0515 - accuracy: 0.9875 - val_loss: 1.6609 - val_accuracy: 0.6000\n",
            "Epoch 28/30\n",
            "16/16 [==============================] - 1s 57ms/step - loss: 0.0367 - accuracy: 0.9937 - val_loss: 1.3151 - val_accuracy: 0.6200\n",
            "Epoch 29/30\n",
            "16/16 [==============================] - 1s 44ms/step - loss: 0.0447 - accuracy: 0.9875 - val_loss: 1.4068 - val_accuracy: 0.6200\n",
            "Epoch 30/30\n",
            "16/16 [==============================] - 1s 44ms/step - loss: 0.0376 - accuracy: 0.9875 - val_loss: 1.5006 - val_accuracy: 0.6000\n"
          ]
        },
        {
          "data": {
            "text/plain": [
              "<keras.callbacks.History at 0x13d016a9b80>"
            ]
          },
          "execution_count": 285,
          "metadata": {},
          "output_type": "execute_result"
        }
      ],
      "source": [
        "# fit the model(x_train,steps per epoch,no.of epochs,vaidation data=test data)\n",
        "model.fit(x_train,steps_per_epoch=16,epochs=30,validation_steps=5,validation_data=x_test)"
      ]
    },
    {
      "cell_type": "markdown",
      "id": "37f4ad9f",
      "metadata": {
        "id": "37f4ad9f"
      },
      "source": [
        "## Save the Model"
      ]
    },
    {
      "cell_type": "code",
      "execution_count": null,
      "id": "42551968",
      "metadata": {
        "id": "42551968"
      },
      "outputs": [],
      "source": [
        "model.save(\"hand_digit.h5\")"
      ]
    },
    {
      "cell_type": "markdown",
      "id": "86beadde",
      "metadata": {
        "id": "86beadde"
      },
      "source": [
        "## Test the Model"
      ]
    },
    {
      "cell_type": "code",
      "execution_count": null,
      "id": "a6714833",
      "metadata": {
        "id": "a6714833"
      },
      "outputs": [],
      "source": [
        "from tensorflow.keras.models import load_model\n",
        "from keras.preprocessing import image\n",
        "import numpy as np"
      ]
    },
    {
      "cell_type": "code",
      "execution_count": null,
      "id": "7e41f26c",
      "metadata": {
        "id": "7e41f26c"
      },
      "outputs": [],
      "source": [
        "model=load_model(\"hand_digit.h5\")"
      ]
    },
    {
      "cell_type": "code",
      "execution_count": null,
      "id": "09469dd7",
      "metadata": {
        "id": "09469dd7",
        "outputId": "fac39b09-be1b-46e3-c97c-d403b0922024"
      },
      "outputs": [
        {
          "data": {
            "text/plain": [
              "(1, 64, 64, 3)"
            ]
          },
          "execution_count": 324,
          "metadata": {},
          "output_type": "execute_result"
        }
      ],
      "source": [
        "img=image.load_img(r\"Hand_digits\\sample1.png\",target_size=(64,64))\n",
        "s1=image.img_to_array(img)\n",
        "s1=np.expand_dims(s1,axis=0)\n",
        "s1.shape"
      ]
    },
    {
      "cell_type": "code",
      "execution_count": null,
      "id": "4269f12f",
      "metadata": {
        "id": "4269f12f",
        "outputId": "fcaa1e18-6e4d-49c8-841a-2af59db79ae5"
      },
      "outputs": [
        {
          "data": {
            "image/png": "[encoded data removed]",
            "text/plain": [
              "<PIL.Image.Image image mode=RGB size=64x64 at 0x13D01022850>"
            ]
          },
          "execution_count": 325,
          "metadata": {},
          "output_type": "execute_result"
        }
      ],
      "source": [
        "index=[0,1,2,3,4,5,6,7,8,9]\n",
        "img"
      ]
    },
    {
      "cell_type": "code",
      "execution_count": null,
      "id": "5f1b55d9",
      "metadata": {
        "id": "5f1b55d9",
        "outputId": "b4d2554b-9d4f-4dbf-e698-b8a1151a87c7"
      },
      "outputs": [
        {
          "name": "stdout",
          "output_type": "stream",
          "text": [
            "Result(Prediction): 1\n"
          ]
        }
      ],
      "source": [
        "result=index[np.argmax(model.predict(s1),axis=1)[0]]\n",
        "print(\"Result(Prediction):\",result)"
      ]
    },
    {
      "cell_type": "code",
      "execution_count": null,
      "id": "59730d26",
      "metadata": {
        "id": "59730d26",
        "outputId": "14779cf5-a8f0-4519-e739-3310c5082840"
      },
      "outputs": [
        {
          "data": {
            "text/plain": [
              "(1, 64, 64, 3)"
            ]
          },
          "execution_count": 301,
          "metadata": {},
          "output_type": "execute_result"
        }
      ],
      "source": [
        "img=image.load_img(\"Hand_digits\\sample6.png\",target_size=(64,64))\n",
        "s2=image.img_to_array(img)\n",
        "s2=np.expand_dims(s2,axis=0)\n",
        "s2.shape"
      ]
    },
    {
      "cell_type": "code",
      "execution_count": null,
      "id": "ba56bf7b",
      "metadata": {
        "id": "ba56bf7b",
        "outputId": "22560e2a-86fb-4ec0-e6ce-d79d7922ae5e"
      },
      "outputs": [
        {
          "data": {
            "image/png": "[encoded data removed]",
            "text/plain": [
              "<PIL.Image.Image image mode=RGB size=64x64 at 0x13D00FF2AC0>"
            ]
          },
          "execution_count": 302,
          "metadata": {},
          "output_type": "execute_result"
        }
      ],
      "source": [
        "img"
      ]
    },
    {
      "cell_type": "code",
      "execution_count": null,
      "id": "a4552c9c",
      "metadata": {
        "id": "a4552c9c",
        "outputId": "6fb3e61a-d05b-418e-b59b-f3c06553d720"
      },
      "outputs": [
        {
          "name": "stdout",
          "output_type": "stream",
          "text": [
            "Result(Prediction): 6\n"
          ]
        }
      ],
      "source": [
        "result=index[np.argmax(model.predict(s2),axis=1)[0]]\n",
        "print(\"Result(Prediction):\",result)"
      ]
    },
    {
      "cell_type": "code",
      "execution_count": null,
      "id": "3bbf9661",
      "metadata": {
        "id": "3bbf9661"
      },
      "outputs": [],
      "source": [
        "img=image.load_img(\"Hand_digits\\sample2.png\",target_size=(64,64))\n",
        "s3=image.img_to_array(img)\n",
        "s3=np.expand_dims(s3,axis=0)"
      ]
    },
    {
      "cell_type": "code",
      "execution_count": null,
      "id": "069e36ef",
      "metadata": {
        "id": "069e36ef",
        "outputId": "1174347d-fe3e-4fa9-80dd-55bbb4792d15"
      },
      "outputs": [
        {
          "data": {
            "image/png": "[encoded data removed]",
            "text/plain": [
              "<PIL.Image.Image image mode=RGB size=64x64 at 0x13D00FC9670>"
            ]
          },
          "execution_count": 321,
          "metadata": {},
          "output_type": "execute_result"
        }
      ],
      "source": [
        "img"
      ]
    },
    {
      "cell_type": "code",
      "execution_count": null,
      "id": "d4efac67",
      "metadata": {
        "id": "d4efac67",
        "outputId": "ca5ac445-b138-4d9b-ff6e-f4d3a78a8641"
      },
      "outputs": [
        {
          "name": "stdout",
          "output_type": "stream",
          "text": [
            "Result(Prediction): 2\n"
          ]
        }
      ],
      "source": [
        "result=index[np.argmax(model.predict(s3),axis=1)[0]]\n",
        "print(\"Result(Prediction):\",result)"
      ]
    },
    {
      "cell_type": "markdown",
      "id": "1348c8b1",
      "metadata": {
        "id": "1348c8b1"
      },
      "source": [
        "# End! Thank You!"
      ]
    }
  ],
  "metadata": {
    "kernelspec": {
      "display_name": "Python 3 (ipykernel)",
      "language": "python",
      "name": "python3"
    },
    "language_info": {
      "codemirror_mode": {
        "name": "ipython",
        "version": 3
      },
      "file_extension": ".py",
      "mimetype": "text/x-python",
      "name": "python",
      "nbconvert_exporter": "python",
      "pygments_lexer": "ipython3",
      "version": "3.9.7"
    },
    "colab": {
      "name": "Hand_Digits.ipynb",
      "provenance": []
    }
  },
  "nbformat": 4,
  "nbformat_minor": 5
}